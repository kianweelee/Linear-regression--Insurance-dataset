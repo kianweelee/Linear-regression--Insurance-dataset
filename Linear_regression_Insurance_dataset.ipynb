{
  "nbformat": 4,
  "nbformat_minor": 0,
  "metadata": {
    "language_info": {
      "name": "python",
      "version": "3.6.6",
      "mimetype": "text/x-python",
      "codemirror_mode": {
        "name": "ipython",
        "version": 3
      },
      "pygments_lexer": "ipython3",
      "nbconvert_exporter": "python",
      "file_extension": ".py"
    },
    "kernelspec": {
      "display_name": "Python 3",
      "language": "python",
      "name": "python3"
    },
    "colab": {
      "name": "Linear regression - Insurance dataset.ipynb",
      "provenance": []
    }
  },
  "cells": [
    {
      "cell_type": "markdown",
      "metadata": {
        "id": "ZA83VQI83yU8",
        "colab_type": "text"
      },
      "source": [
        "![](https://m.economictimes.com/thumb/msid-69278711,width-1200,height-900,resizemode-4,imgsize-132321/home-insurance-getty.jpg)\n",
        "# Introduction \n",
        "This is my first ML practice building a linear regression model. \n",
        "In this dataset, we will perform an exploratory data analysis to understand correlation before building our model.\n"
      ]
    },
    {
      "cell_type": "markdown",
      "metadata": {
        "id": "kOxDGEs93yU9",
        "colab_type": "text"
      },
      "source": [
        "## Importing required packages "
      ]
    },
    {
      "cell_type": "code",
      "metadata": {
        "trusted": true,
        "id": "8K17q-sl3yU-",
        "colab_type": "code",
        "colab": {
          "resources": {
            "http://localhost:8080/nbextensions/google.colab/files.js": {
              "data": "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",
              "ok": true,
              "headers": [
                [
                  "content-type",
                  "application/javascript"
                ]
              ],
              "status": 200,
              "status_text": ""
            }
          },
          "base_uri": "https://localhost:8080/",
          "height": 105
        },
        "outputId": "198a76ec-acba-4942-8847-6b251603593a"
      },
      "source": [
        "# Importing required packages\n",
        "from sklearn.preprocessing import LabelEncoder\n",
        "import numpy as np\n",
        "import pandas as pd\n",
        "import matplotlib.pyplot as plt\n",
        "import seaborn as sns\n",
        "from sklearn.model_selection import train_test_split\n",
        "from sklearn.linear_model import LinearRegression\n",
        "from sklearn.preprocessing import PolynomialFeatures\n",
        "from scipy import stats\n",
        "import statsmodels.api as sm\n",
        "from statsmodels.formula.api import ols\n",
        "# Importing dataset into colab\n",
        "# As we are working with colab, we will need to use the following code to import the dataset into this notebook\n",
        "from google.colab import files \n",
        "uploaded = files.upload()"
      ],
      "execution_count": 1,
      "outputs": [
        {
          "output_type": "stream",
          "text": [
            "/usr/local/lib/python3.6/dist-packages/statsmodels/tools/_testing.py:19: FutureWarning: pandas.util.testing is deprecated. Use the functions in the public API at pandas.testing instead.\n",
            "  import pandas.util.testing as tm\n"
          ],
          "name": "stderr"
        },
        {
          "output_type": "display_data",
          "data": {
            "text/html": [
              "\n",
              "     <input type=\"file\" id=\"files-acd991f2-896b-4340-8533-60fac0061809\" name=\"files[]\" multiple disabled />\n",
              "     <output id=\"result-acd991f2-896b-4340-8533-60fac0061809\">\n",
              "      Upload widget is only available when the cell has been executed in the\n",
              "      current browser session. Please rerun this cell to enable.\n",
              "      </output>\n",
              "      <script src=\"/nbextensions/google.colab/files.js\"></script> "
            ],
            "text/plain": [
              "<IPython.core.display.HTML object>"
            ]
          },
          "metadata": {
            "tags": []
          }
        },
        {
          "output_type": "stream",
          "text": [
            "Saving insurance.csv to insurance.csv\n"
          ],
          "name": "stdout"
        }
      ]
    },
    {
      "cell_type": "markdown",
      "metadata": {
        "id": "xzjJCYL73yVE",
        "colab_type": "text"
      },
      "source": [
        "## Importing dataset and create an overview of dataset"
      ]
    },
    {
      "cell_type": "code",
      "metadata": {
        "trusted": true,
        "id": "LevPZ0E83yVF",
        "colab_type": "code",
        "colab": {
          "base_uri": "https://localhost:8080/",
          "height": 782
        },
        "outputId": "98989f85-8517-4ecd-8f58-764f4bf202b2"
      },
      "source": [
        "def overview():\n",
        "    '''\n",
        "    Read a comma-separated values (csv) file into DataFrame.\n",
        "    Print 5 rows of data\n",
        "    Print number of rows and columns\n",
        "    Print datatype for each column\n",
        "    Print number of NULL/NaN values for each column\n",
        "    Print summary data\n",
        "    \n",
        "    Return:\n",
        "    data, rtype: DataFrame\n",
        "    '''\n",
        "    data = pd.read_csv('insurance.csv')\n",
        "    print(\"The first 5 rows if data are:\\n\", data.head())\n",
        "    print(\"\\n\")\n",
        "    print(\"The (Row,Column) is:\\n\", data.shape)\n",
        "    print(\"\\n\")\n",
        "    print(\"Data type of each column:\\n\", data.dtypes)\n",
        "    print(\"\\n\")\n",
        "    print(\"The number of null values in each column are:\\n\", data.isnull().sum())\n",
        "    print(\"\\n\")\n",
        "    print(\"Numeric summary:\\n\", data.describe())\n",
        "    return data\n",
        "\n",
        "df = overview()"
      ],
      "execution_count": 5,
      "outputs": [
        {
          "output_type": "stream",
          "text": [
            "The first 5 rows if data are:\n",
            "    age     sex     bmi  children smoker     region      charges\n",
            "0   19  female  27.900         0    yes  southwest  16884.92400\n",
            "1   18    male  33.770         1     no  southeast   1725.55230\n",
            "2   28    male  33.000         3     no  southeast   4449.46200\n",
            "3   33    male  22.705         0     no  northwest  21984.47061\n",
            "4   32    male  28.880         0     no  northwest   3866.85520\n",
            "\n",
            "\n",
            "The (Row,Column) is:\n",
            " (1338, 7)\n",
            "\n",
            "\n",
            "Data type of each column:\n",
            " age           int64\n",
            "sex          object\n",
            "bmi         float64\n",
            "children      int64\n",
            "smoker       object\n",
            "region       object\n",
            "charges     float64\n",
            "dtype: object\n",
            "\n",
            "\n",
            "The number of null values in each column are:\n",
            " age         0\n",
            "sex         0\n",
            "bmi         0\n",
            "children    0\n",
            "smoker      0\n",
            "region      0\n",
            "charges     0\n",
            "dtype: int64\n",
            "\n",
            "\n",
            "Numeric summary:\n",
            "                age          bmi     children       charges\n",
            "count  1338.000000  1338.000000  1338.000000   1338.000000\n",
            "mean     39.207025    30.663397     1.094918  13270.422265\n",
            "std      14.049960     6.098187     1.205493  12110.011237\n",
            "min      18.000000    15.960000     0.000000   1121.873900\n",
            "25%      27.000000    26.296250     0.000000   4740.287150\n",
            "50%      39.000000    30.400000     1.000000   9382.033000\n",
            "75%      51.000000    34.693750     2.000000  16639.912515\n",
            "max      64.000000    53.130000     5.000000  63770.428010\n"
          ],
          "name": "stdout"
        }
      ]
    },
    {
      "cell_type": "markdown",
      "metadata": {
        "id": "i7CGD4Jf3yVK",
        "colab_type": "text"
      },
      "source": [
        "## Assigning numerical and categorical variables "
      ]
    },
    {
      "cell_type": "code",
      "metadata": {
        "trusted": true,
        "id": "_39CIuXV3yVK",
        "colab_type": "code",
        "colab": {}
      },
      "source": [
        "# Sorting out numerical and categorical variables \n",
        "def categorical_variable(df):\n",
        "    return list(df.select_dtypes(include = ['category', 'object']))\n",
        "\n",
        "def numerical_variable(df):\n",
        "    return list(df.select_dtypes(exclude = ['category', 'object']))\n"
      ],
      "execution_count": 0,
      "outputs": []
    },
    {
      "cell_type": "markdown",
      "metadata": {
        "id": "NruTwU5_3yVP",
        "colab_type": "text"
      },
      "source": [
        "## Performing EDA "
      ]
    },
    {
      "cell_type": "code",
      "metadata": {
        "trusted": true,
        "id": "1-bQg-Xa3yVP",
        "colab_type": "code",
        "colab": {
          "base_uri": "https://localhost:8080/",
          "height": 369
        },
        "outputId": "0030f95b-76bf-4e10-d2eb-cde042faca8d"
      },
      "source": [
        "g = sns.catplot(x=\"smoker\", y=\"charges\",col_wrap=3, col=\"sex\",data= df, kind=\"box\",height=5, aspect=0.8);"
      ],
      "execution_count": 7,
      "outputs": [
        {
          "output_type": "display_data",
          "data": {
            "image/png": "[encoded data removed]",
            "text/plain": [
              "<Figure size 864x360 with 2 Axes>"
            ]
          },
          "metadata": {
            "tags": []
          }
        }
      ]
    },
    {
      "cell_type": "markdown",
      "metadata": {
        "id": "KnllGZ5Z3yVU",
        "colab_type": "text"
      },
      "source": [
        "We can see that smokers have higher charges due to the possible health issues gathered from smoking. Let's see the rate of charges among different age."
      ]
    },
    {
      "cell_type": "code",
      "metadata": {
        "trusted": true,
        "id": "nJVNp_eJ3yVU",
        "colab_type": "code",
        "colab": {
          "base_uri": "https://localhost:8080/",
          "height": 369
        },
        "outputId": "79930b1a-4b1c-4daf-a307-7f5b08c7faeb"
      },
      "source": [
        "g = sns.catplot(x=\"smoker\", y=\"age\",col_wrap=3, col=\"sex\",data= df, kind=\"box\",height=5, aspect=0.8);"
      ],
      "execution_count": 8,
      "outputs": [
        {
          "output_type": "display_data",
          "data": {
            "image/png": "[encoded data removed]",
            "text/plain": [
              "<Figure size 864x360 with 2 Axes>"
            ]
          },
          "metadata": {
            "tags": []
          }
        }
      ]
    },
    {
      "cell_type": "markdown",
      "metadata": {
        "id": "cVMZs_rJ3yVY",
        "colab_type": "text"
      },
      "source": [
        "It seems that there are more male smokers as compared to female. Could that be the reason why the charges for male smokers are higher?"
      ]
    },
    {
      "cell_type": "markdown",
      "metadata": {
        "id": "AED8jrcL3yVZ",
        "colab_type": "text"
      },
      "source": [
        "## Changing categorical values to numeric \n",
        "- This is an important step as many machine learning algorithms are unable to support categorical values. \n",
        "- There are 2 ways we can deal with this:\n",
        "    - Label encoding\n",
        "    - One-hot encoding\n",
        "\n",
        "### Label encoding (Ordinal values)\n",
        "Label encoding assigns each unique value to a different integer.\n",
        "![](https://i.imgur.com/tEogUAr.png)\n",
        "- This approach assumes an ordering of the categories: \"Never\" (0) < \"Rarely\" (1) < \"Most days\" (2) < \"Every day\" (3).\n",
        "\n",
        "- This assumption makes sense in this example, because there is an indisputable ranking to the categories. Not all categorical variables have a clear ordering in the values, but we refer to those that do as ordinal variables. For tree-based models (like decision trees and random forests), you can expect label encoding to work well with ordinal variables.\n",
        "\n",
        "### One-hot encoding \n",
        "- One-hot encoding creates new columns indicating the presence (or absence) of each possible value in the original data. To understand this, we'll work through an example.\n",
        "![](https://i.imgur.com/TW5m0aJ.png)\n",
        "- In the original dataset, \"Color\" is a categorical variable with three categories: \"Red\", \"Yellow\", and \"Green\". The corresponding one-hot encoding contains one column for each possible value, and one row for each row in the original dataset. Wherever the original value was \"Red\", we put a 1 in the \"Red\" column; if the original value was \"Yellow\", we put a 1 in the \"Yellow\" column, and so on.\n",
        "\n",
        "- In contrast to label encoding, one-hot encoding does not assume an ordering of the categories. Thus, you can expect this approach to work particularly well if there is no clear ordering in the categorical data (e.g., \"Red\" is neither more nor less than \"Yellow\"). We refer to categorical variables without an intrinsic ranking as nominal variables.\n",
        "\n",
        "- One-hot encoding generally does not perform well if the categorical variable takes on a large number of values (i.e., you generally won't use it for variables taking more than 15 different values)."
      ]
    },
    {
      "cell_type": "code",
      "metadata": {
        "trusted": true,
        "id": "gbgSHABw3yVa",
        "colab_type": "code",
        "colab": {}
      },
      "source": [
        "# Changing categorical values to numeric\n",
        "df2 = df.copy()\n",
        "#sex\n",
        "le = LabelEncoder()\n",
        "le.fit(df2.sex.drop_duplicates()) \n",
        "df2.sex = le.transform(df2.sex)\n",
        "# smoker or not\n",
        "le.fit(df2.smoker.drop_duplicates()) \n",
        "df2.smoker = le.transform(df2.smoker)\n",
        "#region\n",
        "le.fit(df2.region.drop_duplicates()) \n",
        "df2.region = le.transform(df2.region)"
      ],
      "execution_count": 0,
      "outputs": []
    },
    {
      "cell_type": "markdown",
      "metadata": {
        "id": "-p83xUOf3yVd",
        "colab_type": "text"
      },
      "source": [
        "## Measuring correlation\n",
        "Given that some variables here are categorical data, we will need to use 1-way ANOVA test to calculate correlation.\n",
        "\n",
        "We will be using 95% confidence interval (95% chance that the confidence interval you calculated contains the true population mean).\n",
        "The null hypothesis is that they are independent.\n",
        "The alternative hypothesis is that they are correlated in some way."
      ]
    },
    {
      "cell_type": "code",
      "metadata": {
        "trusted": true,
        "id": "a6S2xEk63yVd",
        "colab_type": "code",
        "colab": {
          "base_uri": "https://localhost:8080/",
          "height": 204
        },
        "outputId": "fa78b1c0-c7f0-4b91-d12c-1f1d9d28a8dd"
      },
      "source": [
        "print(df2.corr()['charges'])\n",
        "\n",
        "lm = ols('sex ~ charges', data = df2).fit()\n",
        "table = sm.stats.anova_lm(lm)\n",
        "print(\"P-value for 1-way ANOVA test between sex and charges is: \",table.loc['charges','PR(>F)'])\n",
        "lm1 = ols('smoker ~ charges', data = df2).fit()\n",
        "table1 = sm.stats.anova_lm(lm1)\n",
        "print(\"P-value for 1-way ANOVA test between smoker and charges is: \",table1.loc['charges','PR(>F)'])\n",
        "lm2 = ols('region ~ charges', data = df2).fit()\n",
        "table2 = sm.stats.anova_lm(lm2)\n",
        "print(\"P-value for 1-way ANOVA test between region and charges is: \",table2.loc['charges','PR(>F)'])"
      ],
      "execution_count": 10,
      "outputs": [
        {
          "output_type": "stream",
          "text": [
            "age         0.299008\n",
            "sex         0.057292\n",
            "bmi         0.198341\n",
            "children    0.067998\n",
            "smoker      0.787251\n",
            "region     -0.006208\n",
            "charges     1.000000\n",
            "Name: charges, dtype: float64\n",
            "P-value for 1-way ANOVA test between sex and charges is:  0.03613272100596256\n",
            "P-value for 1-way ANOVA test between smoker and charges is:  8.271435842181086e-283\n",
            "P-value for 1-way ANOVA test between region and charges is:  0.8205178364652657\n"
          ],
          "name": "stdout"
        }
      ]
    },
    {
      "cell_type": "markdown",
      "metadata": {
        "id": "S8YvAi4p3yVg",
        "colab_type": "text"
      },
      "source": [
        "- Here, you can see me perform a Pearson correlation test and a 1-way ANOVA test. 1-way AVOVA test is the right way to test correlation between a categorical and numerical data.\n",
        "- It seems that the smoker variable is highly correlated to charges. Hence, we will not drop this feature at the later step.\n",
        "- It seems that region has a P-value of > 0.05, hence, we accept the null hypothesis that they are independent."
      ]
    },
    {
      "cell_type": "markdown",
      "metadata": {
        "id": "ik0chGmH3yVg",
        "colab_type": "text"
      },
      "source": [
        "## Performing a linear regression\n",
        "- This time, we include all features in X"
      ]
    },
    {
      "cell_type": "code",
      "metadata": {
        "_uuid": "4d3df6be-b8f3-4ea4-84c9-d2348b2a40dd",
        "_cell_guid": "7f518293-8169-406d-aaed-7af537b5d0fd",
        "trusted": true,
        "id": "Mh-zrUwz3yVh",
        "colab_type": "code",
        "colab": {
          "base_uri": "https://localhost:8080/",
          "height": 34
        },
        "outputId": "d3a58805-559d-415d-bd4c-fb63de2d7d7d"
      },
      "source": [
        "# Creating training and testing dataset\n",
        "y = df2['charges']\n",
        "X = df2.drop(['charges'], axis = 1)\n",
        "\n",
        "X_train, X_test, y_train, y_test = train_test_split(X, y, test_size=0.20, random_state = 42)\n",
        "\n",
        "lr = LinearRegression().fit(X_train,y_train)\n",
        "y_train_pred = lr.predict(X_train)\n",
        "y_test_pred = lr.predict(X_test)\n",
        "\n",
        "print(lr.score(X_test,y_test))"
      ],
      "execution_count": 11,
      "outputs": [
        {
          "output_type": "stream",
          "text": [
            "0.7833463107364539\n"
          ],
          "name": "stdout"
        }
      ]
    },
    {
      "cell_type": "markdown",
      "metadata": {
        "id": "KoMCAQ1D3yVl",
        "colab_type": "text"
      },
      "source": [
        "78.3% accuracy! Not that bad for the first model! Let's see if we can improve it by removing non-correlated features."
      ]
    },
    {
      "cell_type": "code",
      "metadata": {
        "trusted": true,
        "id": "Dqag8j9G3yVl",
        "colab_type": "code",
        "colab": {
          "base_uri": "https://localhost:8080/",
          "height": 34
        },
        "outputId": "b585f556-4fa5-4f99-af0c-ff26cbdc6927"
      },
      "source": [
        "# Creating training and testing dataset\n",
        "y = df2['charges']\n",
        "X = df2.drop(['charges', 'region'], axis = 1)\n",
        "\n",
        "X_train, X_test, y_train, y_test = train_test_split(X, y, test_size=0.20, random_state = 42)\n",
        "\n",
        "lr = LinearRegression().fit(X_train,y_train)\n",
        "y_train_pred = lr.predict(X_train)\n",
        "y_test_pred = lr.predict(X_test)\n",
        "\n",
        "print(lr.score(X_test,y_test))"
      ],
      "execution_count": 12,
      "outputs": [
        {
          "output_type": "stream",
          "text": [
            "0.7811302113434095\n"
          ],
          "name": "stdout"
        }
      ]
    },
    {
      "cell_type": "markdown",
      "metadata": {
        "id": "hEJqmjTw3yVr",
        "colab_type": "text"
      },
      "source": [
        "78.1%.. A slight improvement! Now let's try using Polynomial regression!\n",
        "\n",
        "## Polynomial regression\n",
        "- A form of linear regression in which the relationship between the independent variable x and dependent variable y is modeled as an nth degree polynomial.\n",
        "- Why polynomial regression? An assumption in usual multiple linear regression analysis is that all the independent variables are independent. In polynomial regression model, this assumption is not satisfied."
      ]
    },
    {
      "cell_type": "code",
      "metadata": {
        "trusted": true,
        "id": "TfQDzIFu3yVr",
        "colab_type": "code",
        "colab": {
          "base_uri": "https://localhost:8080/",
          "height": 34
        },
        "outputId": "441ad5f9-06cd-47d2-9989-d43b25b0de92"
      },
      "source": [
        "# Creating training and testing dataset\n",
        "y = df2['charges']\n",
        "X = df2.drop(['charges', 'region'], axis = 1)\n",
        "\n",
        "poly_reg  = PolynomialFeatures(degree=2)\n",
        "X_poly = poly_reg.fit_transform(X)\n",
        "\n",
        "X_train,X_test,y_train,y_test = train_test_split(X_poly,y,test_size=0.20, random_state = 42)\n",
        "\n",
        "lin_reg = LinearRegression()\n",
        "lin_reg  = lin_reg.fit(X_train,y_train)\n",
        "\n",
        "print(lin_reg.score(X_test,y_test))"
      ],
      "execution_count": 13,
      "outputs": [
        {
          "output_type": "stream",
          "text": [
            "0.8669441556658781\n"
          ],
          "name": "stdout"
        }
      ]
    },
    {
      "cell_type": "markdown",
      "metadata": {
        "id": "2DNH7Tug3yVt",
        "colab_type": "text"
      },
      "source": [
        "Sweet! We see a huge improvement in the score! I believe more can be done to improve this model by performing feature selections and testing more complex models but since this is my first model, I shall end off here! Thank you for reading!"
      ]
    }
  ]
}